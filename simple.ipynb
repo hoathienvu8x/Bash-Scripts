{
  "cells": [
    {
      "cell_type": "markdown",
      "metadata": {},
      "source": [
        "# HƯỚNG DẪN TÁCH CÂU TIẾNG VIỆT\n",
        "\n",
        "## Tiền đề cơ sở để tách câu:\n",
        "Theo sách ngữ pháp tiếng Việt của Uỷ ban Khoa học Xã hội (1980): _\"Câu\n",
        "là đơn vị dùng từ hay đúng hơn dùng ngữ mà cấu tạo nên trong quá trình tư\n",
        "duy, thông báo; nó có nghĩa hoàn chỉnh, có cấu tạo ngữ pháp, và có tính chất\n",
        "độc lập\"_. Dựa vào quan điểm này về câu ta sẽ xét một đơn vị ngôn ngữ có phải\n",
        "là câu hay không.\n"
      ]
    },
    {
      "cell_type": "code",
      "execution_count": 10,
      "metadata": {},
      "outputs": [],
      "source": [
        "def sent2labels(sent):\n",
        "    return [label for token, label in sent]"
      ]
    },
    {
      "cell_type": "markdown",
      "metadata": {},
      "source": [
        "## Mục tiêu: \n",
        "\n",
        "- Xác định ranh giới rõ ràng và nhất quán giữa các câu tiếng Việt. Phân\n",
        "biệt đơn vị câu với các đơn vị nhỏ hơn câu (từ, ngữ...) và lớn hơn câu\n",
        "(đoạn, văn bản). \n",
        "- Làm tiêu chí chính để xây dựng nên câu tiếng Việt trong ngữ liệu\n",
        "tiếng Việt. \n",
        "- Làm cơ sở để gán các nhãn ngôn ngữ cao hơn (tách từ, gán nhãn từ\n",
        "loại, phân tích cú pháp...) \n",
        "- Làm tiền đề cho các bài toán khác, như: dóng câu trong song ngữ AnhViệt, Pháp-Việt, dịch tự động Việt-Anh... \n",
      ]
    },
    {
      "cell_type": "markdown",
      "metadata": {},
      "source": [
        "## Phân tích và nhận diện câu: \n"
      ]
    },
    {
      "cell_type": "markdown",
      "metadata": {},
      "source": [
        "### Phân tích câu: \n",
        "\n",
        "Xét về cấu tạo có câu đơn, câu ghép. "
      ]
    },
    {
      "cell_type": "markdown",
      "metadata": {},
      "source": [
        "#### Câu đơn: \n",
        "\n",
        "**Một câu đơn cơ bản** gồm có một nòng cốt đơn. Nòng cốt đơn gồm có hai\n",
        "phần, phần đề và phần thuyết (theo quan điểm ngữ pháp chức năng) mà quan\n",
        "điểm ngữ pháp truyền thống gọi là chủ ngữ và vị ngữ. \n",
        "\n",
        "**Ví dụ 1:**\n",
        "\n",
        "> *Bão Lekima cấp 11 / đang hướng vào Nghệ An - Hà Tĩnh.*\n",
        "> \n",
        "> *Mọi chuyện / rồi sẽ qua đi.*\n",
        "\n",
        "Trong cấu tạo câu đơn có thể có những thành phần ngoài nòng cốt như thành\n",
        "phần than gọi, thành phần chuyển tiếp, thành phần chú thích, thành phần tình\n",
        "huống, thành phần khởi ý. \n",
        "\n",
        "**Ví dụ 2:**\n",
        "\n",
        "> _**Nhiều lúc**, tôi cũng muốn gào thét thật to, đạp tung, phá vỡ tất cả..._\n",
        ">\n",
        "> _**Con người**, đó là cái vốn quý nhất._\n",
        ">\n",
        "> _**Chao**, đường còn xa lắm!_\n",
        "\n",
        "Riêng với thành phần than gọi thì ta chỉ xét nó thuộc nòng cốt câu khi nó đứng ở\n",
        "cuối hoặc ở giữa câu. \n",
        "\n",
        "**Ví dụ 3:**\n",
        "\n",
        "> _Chúng ta đi về đi, **bà con ơi!**_\n",
        "\n",
        "Khi thành phần than gọi đứng ở đầu câu thì ta xem nó là một câu. Vì vốn dĩ thành\n",
        "phần than gọi đã có tính chất độc lập. Hơn nữa, nó được ngăn cách với nòng cốt\n",
        "câu bằng dấu (`!`) nên ta xem nó như một câu đặc biệt.\n",
        "\n",
        "**Ví dụ 4:**\n",
        "\n",
        "> _**Trời!** Nó lại quay trở về._\n",
        "> \n",
        "> _&rarr; Tách thành 2 câu:_\n",
        "> \n",
        "> _Trời!_\n",
        "> \n",
        "> _Nó lại quay trở về._\n",
        "\n",
        "Câu đơn đặc biệt là câu mà nòng cốt đơn chỉ có một thành phần.\n",
        "\n",
        "**Ví dụ 5:**\n",
        "\n",
        "> _Chỉ còn lại những ngày cuối cùng..._\n",
        ">\n",
        "> _Điều chỉnh lại mình đi!_"
      ]
    }
  ],
  "metadata": {
  "kernelspec": {
   "display_name": "Python 3",
   "language": "python",
   "name": "python3"
  },
  "language_info": {
   "codemirror_mode": {
    "name": "ipython",
    "version": 3
   },
   "file_extension": ".py",
   "mimetype": "text/x-python",
   "name": "python",
   "nbconvert_exporter": "python",
   "pygments_lexer": "ipython3",
   "version": "3.7.4"
  }
 },
 "nbformat": 4,
 "nbformat_minor": 2
}
