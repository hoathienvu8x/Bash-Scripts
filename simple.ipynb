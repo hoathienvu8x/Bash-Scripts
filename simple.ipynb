{
  "cells": [
    {
      "cell_type": "markdown",
      "metadata": {
        "id": "P-H6Lw1vyNNd"
      },
      "source": [
        "# HƯỚNG DẪN TÁCH CÂU TIẾNG VIỆT\n",
        "\n",
        "## Tiền đề cơ sở để tách câu:\n",
        "Theo sách ngữ pháp tiếng Việt của Uỷ ban Khoa học Xã hội (1980): _\"Câu\n",
        "là đơn vị dùng từ hay đúng hơn dùng ngữ mà cấu tạo nên trong quá trình tư\n",
        "duy, thông báo; nó có nghĩa hoàn chỉnh, có cấu tạo ngữ pháp, và có tính chất\n",
        "độc lập\"_. Dựa vào quan điểm này về câu ta sẽ xét một đơn vị ngôn ngữ có phải\n",
        "là câu hay không.\n"
      ]
    }
  ],
  "metadata": {
  "kernelspec": {
   "display_name": "Python 3",
   "language": "python",
   "name": "python3"
  },
  "language_info": {
   "codemirror_mode": {
    "name": "ipython",
    "version": 3
   },
   "file_extension": ".py",
   "mimetype": "text/x-python",
   "name": "python",
   "nbconvert_exporter": "python",
   "pygments_lexer": "ipython3",
   "version": "3.7.4"
  }
 },
 "nbformat": 4,
 "nbformat_minor": 2
}
